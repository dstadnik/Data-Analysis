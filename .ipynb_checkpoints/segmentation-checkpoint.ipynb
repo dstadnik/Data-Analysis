{
 "cells": [
  {
   "cell_type": "code",
   "execution_count": 1,
   "metadata": {},
   "outputs": [],
   "source": [
    "# здесь всё предустановлено должно быть\n",
    "import pandas as pd\n",
    "import numpy as np\n",
    "import scipy.stats as st\n",
    "\n",
    "import json\n",
    "import _pickle as pickle\n",
    "\n",
    "from copy import deepcopy\n",
    "\n",
    "from matplotlib import pyplot as plt\n",
    "\n",
    "from scipy.spatial.distance import euclidean"
   ]
  },
  {
   "cell_type": "code",
   "execution_count": 2,
   "metadata": {},
   "outputs": [],
   "source": [
    "# импортируем нужную функцию\n",
    "from tqdm import tqdm"
   ]
  },
  {
   "cell_type": "code",
   "execution_count": 5,
   "metadata": {},
   "outputs": [],
   "source": [
    "data = pd.read_csv('28082020.csv',sep = ';' ,low_memory=False, dtype = str)"
   ]
  },
  {
   "cell_type": "code",
   "execution_count": 7,
   "metadata": {},
   "outputs": [],
   "source": [
    "data = data.iloc[3:]"
   ]
  },
  {
   "cell_type": "code",
   "execution_count": 9,
   "metadata": {},
   "outputs": [],
   "source": [
    "data = data.iloc[3:]"
   ]
  },
  {
   "cell_type": "code",
   "execution_count": 11,
   "metadata": {},
   "outputs": [],
   "source": [
    "data.rename(columns={\n",
    "    \"Contact ID\": \"user_id\",\n",
    "    \"Cheque ID\": \"bill_id\",\n",
    "    \"Sale Date ID\": \"timestamp\",\n",
    "    \"Quantity\":\"bill_product_count\",\n",
    "    \"Price\":\"bill_product_price\",\n",
    "    \"Discount Value\":\"discount_amount\",\n",
    "    \"Product ID\":\"product_code\"\n",
    "}, inplace=True)"
   ]
  },
  {
   "cell_type": "code",
   "execution_count": 12,
   "metadata": {},
   "outputs": [],
   "source": [
    "data = data[[\"user_id\", \"product_code\", \"bill_id\", \"timestamp\",\n",
    "                           \"bill_product_count\", \"bill_product_price\", \"discount_amount\"]]"
   ]
  },
  {
   "cell_type": "code",
   "execution_count": 13,
   "metadata": {},
   "outputs": [],
   "source": [
    "data['bill_product_count'] = data['bill_product_count'].astype(float)\n",
    "data['bill_product_price'] = data['bill_product_price'].astype(float)\n",
    "data['discount_amount'] = data['discount_amount'].astype(float)\n",
    " "
   ]
  },
  {
   "cell_type": "code",
   "execution_count": 14,
   "metadata": {},
   "outputs": [],
   "source": [
    "app_opens = pd.read_csv(\"2600-2900 app.csv\",sep = ';',dtype = str)"
   ]
  },
  {
   "cell_type": "code",
   "execution_count": 15,
   "metadata": {},
   "outputs": [],
   "source": [
    "app_opens.rename(columns={\n",
    "    \"Contact ID\": \"user_id\",\n",
    "    \"Unnamed: 1\": \"app_open\"\n",
    "}, inplace=True)"
   ]
  },
  {
   "cell_type": "code",
   "execution_count": 16,
   "metadata": {},
   "outputs": [],
   "source": [
    "app_opens['app_open'] = app_opens['app_open'].astype(int)"
   ]
  },
  {
   "cell_type": "code",
   "execution_count": 17,
   "metadata": {},
   "outputs": [],
   "source": [
    "app_opens_dict = app_opens.groupby(\"user_id\").app_open.sum().to_dict()"
   ]
  },
  {
   "cell_type": "code",
   "execution_count": 18,
   "metadata": {},
   "outputs": [],
   "source": [
    "# тут 45 тысяч нужных покупателей\n",
    "ab_users = pd.read_csv(\"splited_users.csv\",sep = ',',dtype = str)"
   ]
  },
  {
   "cell_type": "code",
   "execution_count": 20,
   "metadata": {},
   "outputs": [],
   "source": [
    "ab_users.rename(columns={\n",
    "    \"Contact ID\": \"user_id\",\n",
    "}, inplace=True)"
   ]
  },
  {
   "cell_type": "code",
   "execution_count": 22,
   "metadata": {},
   "outputs": [],
   "source": [
    "ndata = data[data.user_id.isin(ab_users.user_id.values)]"
   ]
  },
  {
   "cell_type": "code",
   "execution_count": 23,
   "metadata": {},
   "outputs": [],
   "source": [
    "ndata = ndata.sort_values(\"timestamp\")"
   ]
  },
  {
   "cell_type": "code",
   "execution_count": 24,
   "metadata": {},
   "outputs": [],
   "source": [
    "needed_data = ndata[[\"user_id\", \"product_code\", \"bill_id\", \"timestamp\",\n",
    "                           \"bill_product_count\", \"bill_product_price\", \"discount_amount\"]]"
   ]
  },
  {
   "cell_type": "code",
   "execution_count": 25,
   "metadata": {
    "scrolled": true
   },
   "outputs": [],
   "source": [
    "needed_data[\"discount_amount\"] = needed_data[\"discount_amount\"].fillna(0)"
   ]
  },
  {
   "cell_type": "code",
   "execution_count": 26,
   "metadata": {},
   "outputs": [],
   "source": [
    "needed_data[\"bill_real_price\"] = needed_data[\"bill_product_price\"] * needed_data[\"bill_product_count\"] - needed_data[\"discount_amount\"]"
   ]
  },
  {
   "cell_type": "code",
   "execution_count": 28,
   "metadata": {},
   "outputs": [],
   "source": [
    "# отрежем датасет от этого индекса до конца выгрузки\n",
    "needed_data = needed_data[needed_data[\"timestamp\"] >= \"2019-10-30T00:00:00\"]"
   ]
  },
  {
   "cell_type": "code",
   "execution_count": 29,
   "metadata": {},
   "outputs": [
    {
     "data": {
      "text/plain": [
       "28401"
      ]
     },
     "execution_count": 29,
     "metadata": {},
     "output_type": "execute_result"
    }
   ],
   "source": [
    "needed_data.user_id.nunique()"
   ]
  },
  {
   "cell_type": "code",
   "execution_count": 30,
   "metadata": {},
   "outputs": [
    {
     "name": "stderr",
     "output_type": "stream",
     "text": [
      "100%|██████████| 28401/28401 [00:53<00:00, 529.60it/s]\n"
     ]
    }
   ],
   "source": [
    "#едём dictionary, где для каждого клиента будем хранить его медианный чек, количество визитов, средний отклик на коммуникацию и медианную маржу на чек (надо добавить)\n",
    "user_rfo = {}\n",
    "\n",
    "\n",
    "for user, group in tqdm(needed_data.groupby('user_id')):\n",
    "    bill_prices = group.groupby(\"bill_id\").bill_real_price.sum().values.tolist()\n",
    "\n",
    "    if len(bill_prices) == 0:\n",
    "        bill_prices.append(0)\n",
    "\n",
    "    user_rfo[user] = (\n",
    "        np.mean(bill_prices),\n",
    "        group.bill_id.nunique(),\n",
    "        group[group[\"discount_amount\"] > 0].shape[0] / group.shape[0],\n",
    "        app_opens_dict.get(user, 0)\n",
    "    )"
   ]
  },
  {
   "cell_type": "markdown",
   "metadata": {},
   "source": [
    "# Выведем графики по каждой переменной"
   ]
  },
  {
   "cell_type": "code",
   "execution_count": 31,
   "metadata": {},
   "outputs": [
    {
     "data": {
      "image/png": "[encoded data removed]",
      "text/plain": [
       "<Figure size 432x288 with 1 Axes>"
      ]
     },
     "metadata": {
      "needs_background": "light"
     },
     "output_type": "display_data"
    }
   ],
   "source": [
    "plt.hist(list(filter(lambda x: x < 2000, [user_rfo[key][0] for key in user_rfo.keys()])), 30)\n",
    "plt.show()"
   ]
  },
  {
   "cell_type": "code",
   "execution_count": 32,
   "metadata": {
    "scrolled": true
   },
   "outputs": [
    {
     "data": {
      "image/png": "[encoded data removed]",
      "text/plain": [
       "<Figure size 432x288 with 1 Axes>"
      ]
     },
     "metadata": {
      "needs_background": "light"
     },
     "output_type": "display_data"
    }
   ],
   "source": [
    "plt.hist(list(filter(lambda x: x < 500, [user_rfo[key][1] for key in user_rfo.keys()])), 30)\n",
    "plt.show()"
   ]
  },
  {
   "cell_type": "code",
   "execution_count": 33,
   "metadata": {},
   "outputs": [
    {
     "data": {
      "image/png": "[encoded data removed]",
      "text/plain": [
       "<Figure size 432x288 with 1 Axes>"
      ]
     },
     "metadata": {
      "needs_background": "light"
     },
     "output_type": "display_data"
    }
   ],
   "source": [
    "plt.hist(list(filter(lambda x: x, [user_rfo[key][2] for key in user_rfo.keys()])), 100)\n",
    "plt.show()"
   ]
  },
  {
   "cell_type": "code",
   "execution_count": 34,
   "metadata": {},
   "outputs": [
    {
     "data": {
      "image/png": "[encoded data removed]",
      "text/plain": [
       "<Figure size 432x288 with 1 Axes>"
      ]
     },
     "metadata": {
      "needs_background": "light"
     },
     "output_type": "display_data"
    }
   ],
   "source": [
    "plt.hist(list(filter(lambda x: x, [user_rfo[key][3] for key in user_rfo.keys()])))\n",
    "plt.show()"
   ]
  },
  {
   "cell_type": "code",
   "execution_count": 35,
   "metadata": {},
   "outputs": [
    {
     "data": {
      "text/plain": [
       "0.010281328122249217"
      ]
     },
     "execution_count": 35,
     "metadata": {},
     "output_type": "execute_result"
    }
   ],
   "source": [
    "np.mean([user_rfo[key][3] for key in user_rfo.keys()])"
   ]
  },
  {
   "cell_type": "code",
   "execution_count": 36,
   "metadata": {},
   "outputs": [
    {
     "data": {
      "text/plain": [
       "28401"
      ]
     },
     "execution_count": 36,
     "metadata": {},
     "output_type": "execute_result"
    }
   ],
   "source": [
    "# итоговое количество клиентов, которых будем делить на две группы\n",
    "len(user_rfo.keys())"
   ]
  },
  {
   "cell_type": "code",
   "execution_count": 37,
   "metadata": {},
   "outputs": [],
   "source": [
    "# нормируем параметры по людям\n",
    "norm_user_rfo = {}\n",
    "\n",
    "max_rev = np.max([user_rfo[user][0] for user in user_rfo.keys()])\n",
    "max_freq = np.max([user_rfo[user][1] for user in user_rfo.keys()])\n",
    "max_otkl = np.max([user_rfo[user][2] for user in user_rfo.keys()])\n",
    "# max_marg = np.max([user_rfo[user][3] for user in user_rfo.keys()])\n",
    "\n",
    "for user in user_rfo.keys():\n",
    "    norm_user_rfo[user] = (\n",
    "        user_rfo[user][0] / max_rev,\n",
    "        user_rfo[user][1] * 1.0 / max_freq,\n",
    "        user_rfo[user][2] / max_otkl,\n",
    "        user_rfo[user][3]\n",
    "        # ещё добавить для маржинальности\n",
    "        # user_rfo[user][3] / max_marg\n",
    "    )"
   ]
  },
  {
   "cell_type": "code",
   "execution_count": 38,
   "metadata": {},
   "outputs": [],
   "source": [
    "# функция для нахождения k ближайших соседей в евклидовом пространстве\n",
    "# obj - объект, для которого ищем\n",
    "# users - среди кого ищем\n",
    "# k - количество соседей\n",
    "def find_k_closest(obj, users, k):\n",
    "    all_users = list(users.keys())\n",
    "    \n",
    "    dists = []\n",
    "    for user in all_users:\n",
    "        dists.append(euclidean(obj, users[user]))\n",
    "        \n",
    "    best_inds = np.argsort(dists)[:k]\n",
    "    closest_users = [all_users[i] for i in best_inds]\n",
    "\n",
    "    return closest_users"
   ]
  },
  {
   "cell_type": "code",
   "execution_count": 39,
   "metadata": {
    "scrolled": true
   },
   "outputs": [
    {
     "data": {
      "text/plain": [
       "['181374', '96192', '9982', '86490', '216186']"
      ]
     },
     "execution_count": 39,
     "metadata": {},
     "output_type": "execute_result"
    }
   ],
   "source": [
    "# пример\n",
    "find_k_closest((0.044589290053331801, 0.029411764705882353, 0.0, 0.0), norm_user_rfo, 5)"
   ]
  },
  {
   "cell_type": "code",
   "execution_count": 41,
   "metadata": {
    "scrolled": true
   },
   "outputs": [
    {
     "name": "stdout",
     "output_type": "stream",
     "text": [
      "28401\n"
     ]
    },
    {
     "name": "stderr",
     "output_type": "stream",
     "text": [
      "\n",
      "  0%|          | 0/28395 [00:00<?, ?it/s]\n",
      "  0%|          | 1/28395 [00:00<4:37:59,  1.70it/s]\n",
      "  0%|          | 2/28395 [00:01<4:26:05,  1.78it/s]\n",
      "  0%|          | 3/28395 [00:01<4:03:45,  1.94it/s]\n",
      "  0%|          | 4/28395 [00:01<3:52:12,  2.04it/s]\n",
      "  0%|          | 5/28395 [00:02<3:42:01,  2.13it/s]\n",
      "  0%|          | 6/28395 [00:02<3:35:43,  2.19it/s]\n",
      "  0%|          | 7/28395 [00:03<3:28:20,  2.27it/s]\n",
      "  0%|          | 8/28395 [00:03<3:25:01,  2.31it/s]\n",
      "  0%|          | 9/28395 [00:04<3:24:05,  2.32it/s]\n",
      "  0%|          | 10/28395 [00:04<3:19:37,  2.37it/s]\n",
      "  0%|          | 11/28395 [00:04<3:39:16,  2.16it/s]\n",
      "  0%|          | 12/28395 [00:05<3:32:38,  2.22it/s]\n",
      "  0%|          | 13/28395 [00:05<3:24:45,  2.31it/s]\n",
      "  0%|          | 14/28395 [00:06<3:27:18,  2.28it/s]\n",
      "  0%|          | 15/28395 [00:06<3:26:31,  2.29it/s]\n",
      "  0%|          | 16/28395 [00:07<3:24:06,  2.32it/s]\n",
      "  0%|          | 17/28395 [00:07<3:20:38,  2.36it/s]\n",
      "  0%|          | 18/28395 [00:07<3:23:42,  2.32it/s]\n",
      "  0%|          | 19/28395 [00:08<3:26:58,  2.28it/s]\n",
      "  0%|          | 20/28395 [00:08<3:29:07,  2.26it/s]\n",
      "  0%|          | 21/28395 [00:09<3:28:29,  2.27it/s]\n",
      "  0%|          | 22/28395 [00:09<3:25:38,  2.30it/s]\n",
      "  0%|          | 23/28395 [00:10<3:28:11,  2.27it/s]\n",
      "  0%|          | 24/28395 [00:10<3:23:01,  2.33it/s]\n",
      "  0%|          | 25/28395 [00:11<3:29:18,  2.26it/s]\n",
      "  0%|          | 26/28395 [00:11<4:17:25,  1.84it/s]\n",
      "  0%|          | 27/28395 [00:12<4:42:24,  1.67it/s]\n",
      "  0%|          | 28/28395 [00:13<4:48:37,  1.64it/s]\n",
      "  0%|          | 29/28395 [00:13<4:24:25,  1.79it/s]\n",
      "  0%|          | 30/28395 [00:14<4:40:08,  1.69it/s]\n",
      "  0%|          | 31/28395 [00:15<6:21:48,  1.24it/s]\n",
      "  0%|          | 32/28395 [00:16<7:29:08,  1.05it/s]\n",
      "  0%|          | 33/28395 [00:18<8:28:34,  1.08s/it]\n",
      "  0%|          | 34/28395 [00:19<9:23:02,  1.19s/it]\n",
      "  0%|          | 35/28395 [00:21<9:43:45,  1.24s/it]\n",
      "  0%|          | 36/28395 [00:22<9:32:47,  1.21s/it]\n",
      "  0%|          | 37/28395 [00:23<8:59:48,  1.14s/it]\n",
      "  0%|          | 38/28395 [00:23<8:04:19,  1.02s/it]\n",
      "  0%|          | 39/28395 [00:24<7:16:26,  1.08it/s]\n",
      "  0%|          | 40/28395 [00:25<6:02:46,  1.30it/s]\n",
      "  0%|          | 41/28395 [00:25<5:26:53,  1.45it/s]\n",
      "  0%|          | 42/28395 [00:25<4:49:11,  1.63it/s]\n",
      "  0%|          | 43/28395 [00:26<4:23:47,  1.79it/s]\n",
      "  0%|          | 44/28395 [00:26<4:12:38,  1.87it/s]\n",
      "  0%|          | 45/28395 [00:27<4:09:55,  1.89it/s]\n",
      "  0%|          | 46/28395 [00:28<5:15:40,  1.50it/s]\n",
      "  0%|          | 47/28395 [00:29<5:24:39,  1.46it/s]\n",
      "  0%|          | 48/28395 [00:29<5:22:27,  1.47it/s]\n",
      "  0%|          | 49/28395 [00:30<5:31:43,  1.42it/s]\n",
      "  0%|          | 50/28395 [00:31<5:04:08,  1.55it/s]\n",
      "  0%|          | 51/28395 [00:31<5:32:02,  1.42it/s]\n",
      "  0%|          | 52/28395 [00:32<5:58:04,  1.32it/s]\n",
      "  0%|          | 53/28395 [00:33<6:05:24,  1.29it/s]\n",
      "  0%|          | 54/28395 [00:34<5:28:24,  1.44it/s]\n",
      "  0%|          | 55/28395 [00:34<4:47:49,  1.64it/s]\n",
      "  0%|          | 56/28395 [00:34<4:17:35,  1.83it/s]\n",
      "  0%|          | 57/28395 [00:35<3:58:26,  1.98it/s]\n",
      "  0%|          | 58/28395 [00:35<3:44:07,  2.11it/s]\n",
      "  0%|          | 59/28395 [00:36<3:39:20,  2.15it/s]\n",
      "  0%|          | 60/28395 [00:36<3:29:12,  2.26it/s]\n",
      "  0%|          | 61/28395 [00:36<3:25:55,  2.29it/s]\n",
      "  0%|          | 62/28395 [00:37<3:28:42,  2.26it/s]\n",
      "  0%|          | 63/28395 [00:37<3:39:33,  2.15it/s]\n",
      "  0%|          | 64/28395 [00:38<4:13:59,  1.86it/s]\n",
      "  0%|          | 65/28395 [00:39<4:37:31,  1.70it/s]\n",
      "  0%|          | 66/28395 [00:39<4:32:14,  1.73it/s]\n",
      "  0%|          | 67/28395 [00:40<4:14:33,  1.85it/s]\n",
      "  0%|          | 68/28395 [00:40<4:04:00,  1.93it/s]\n",
      "  0%|          | 69/28395 [00:41<4:01:08,  1.96it/s]\n",
      "  0%|          | 70/28395 [00:41<3:56:18,  2.00it/s]\n",
      "  0%|          | 71/28395 [00:42<3:46:59,  2.08it/s]\n",
      "  0%|          | 72/28395 [00:42<3:42:43,  2.12it/s]\n",
      "  0%|          | 73/28395 [00:43<3:43:24,  2.11it/s]\n",
      "  0%|          | 74/28395 [00:43<3:34:43,  2.20it/s]\n",
      "  0%|          | 75/28395 [00:43<3:25:05,  2.30it/s]\n",
      "  0%|          | 76/28395 [00:44<3:19:20,  2.37it/s]\n",
      "  0%|          | 77/28395 [00:44<3:14:19,  2.43it/s]\n",
      "  0%|          | 78/28395 [00:45<3:25:04,  2.30it/s]\n",
      "  0%|          | 79/28395 [00:45<3:40:38,  2.14it/s]\n",
      "  0%|          | 80/28395 [00:46<4:51:07,  1.62it/s]\n",
      "  0%|          | 81/28395 [00:47<6:13:37,  1.26it/s]\n",
      "  0%|          | 82/28395 [00:48<6:19:50,  1.24it/s]\n",
      "  0%|          | 83/28395 [00:49<5:44:39,  1.37it/s]\n",
      "  0%|          | 84/28395 [00:49<5:06:20,  1.54it/s]\n",
      "  0%|          | 85/28395 [00:50<4:33:51,  1.72it/s]\n",
      "  0%|          | 86/28395 [00:50<4:11:34,  1.88it/s]\n",
      "  0%|          | 87/28395 [00:51<3:53:15,  2.02it/s]\n",
      "  0%|          | 88/28395 [00:51<3:41:17,  2.13it/s]\n",
      "  0%|          | 89/28395 [00:51<3:34:20,  2.20it/s]\n",
      "  0%|          | 90/28395 [00:52<3:32:59,  2.21it/s]\n",
      "  0%|          | 91/28395 [00:52<3:36:50,  2.18it/s]\n",
      "  0%|          | 92/28395 [00:53<3:33:10,  2.21it/s]\n",
      "  0%|          | 93/28395 [00:53<3:32:53,  2.22it/s]\n",
      "  0%|          | 94/28395 [00:54<3:35:12,  2.19it/s]\n",
      "  0%|          | 95/28395 [00:54<3:31:54,  2.23it/s]\n",
      "  0%|          | 96/28395 [00:55<3:28:26,  2.26it/s]\n",
      "  0%|          | 97/28395 [00:55<3:31:08,  2.23it/s]\n",
      "  0%|          | 98/28395 [00:55<3:30:01,  2.25it/s]\n",
      "  0%|          | 99/28395 [00:56<3:30:30,  2.24it/s]\n",
      "  0%|          | 100/28395 [00:56<3:26:13,  2.29it/s]\n",
      "  0%|          | 101/28395 [00:57<3:26:00,  2.29it/s]\n",
      "  0%|          | 102/28395 [00:57<3:26:58,  2.28it/s]\n",
      "  0%|          | 103/28395 [00:58<3:32:55,  2.21it/s]\n",
      "  0%|          | 104/28395 [00:58<3:35:04,  2.19it/s]\n",
      "  0%|          | 105/28395 [00:59<3:36:08,  2.18it/s]\n",
      "  0%|          | 106/28395 [00:59<3:32:47,  2.22it/s]\n",
      "  0%|          | 107/28395 [00:59<3:28:37,  2.26it/s]\n",
      "  0%|          | 108/28395 [01:00<3:26:41,  2.28it/s]\n",
      "  0%|          | 109/28395 [01:00<3:26:18,  2.29it/s]\n",
      "  0%|          | 110/28395 [01:01<3:26:36,  2.28it/s]\n",
      "  0%|          | 111/28395 [01:01<3:28:39,  2.26it/s]\n",
      "  0%|          | 112/28395 [01:02<4:21:16,  1.80it/s]\n",
      "  0%|          | 113/28395 [01:03<5:05:26,  1.54it/s]\n",
      "  0%|          | 114/28395 [01:04<5:45:56,  1.36it/s]\n",
      "  0%|          | 115/28395 [01:04<5:10:08,  1.52it/s]\n",
      "  0%|          | 116/28395 [01:05<4:42:05,  1.67it/s]\n",
      "  0%|          | 117/28395 [01:05<4:18:14,  1.83it/s]\n",
      "  0%|          | 118/28395 [01:06<4:04:46,  1.93it/s]\n",
      "  0%|          | 119/28395 [01:06<3:53:22,  2.02it/s]\n",
      "  0%|          | 120/28395 [01:06<3:45:40,  2.09it/s]\n",
      "  0%|          | 121/28395 [01:07<3:42:33,  2.12it/s]\n",
      "  0%|          | 122/28395 [01:07<3:38:30,  2.16it/s]\n",
      "  0%|          | 123/28395 [01:08<3:52:28,  2.03it/s]\n",
      "  0%|          | 124/28395 [01:09<4:23:16,  1.79it/s]\n",
      "  0%|          | 125/28395 [01:09<4:16:27,  1.84it/s]\n",
      "  0%|          | 126/28395 [01:10<3:58:00,  1.98it/s]\n",
      "  0%|          | 127/28395 [01:10<3:48:20,  2.06it/s]\n",
      "  0%|          | 128/28395 [01:10<3:36:21,  2.18it/s]\n",
      "  0%|          | 129/28395 [01:11<3:29:05,  2.25it/s]\n",
      "  0%|          | 131/28395 [01:11<2:55:02,  2.69it/s]\n",
      "  0%|          | 132/28395 [01:12<2:58:45,  2.64it/s]\n",
      "  0%|          | 133/28395 [01:12<3:05:26,  2.54it/s]\n",
      "  0%|          | 134/28395 [01:12<3:09:00,  2.49it/s]\n",
      "  0%|          | 135/28395 [01:13<3:09:14,  2.49it/s]\n",
      "  0%|          | 136/28395 [01:13<3:14:04,  2.43it/s]\n",
      "  0%|          | 137/28395 [01:14<3:13:11,  2.44it/s]\n",
      "  0%|          | 138/28395 [01:14<3:11:04,  2.46it/s]\n",
      "  0%|          | 139/28395 [01:15<3:14:02,  2.43it/s]\n",
      "  0%|          | 140/28395 [01:15<3:15:42,  2.41it/s]\n",
      "  0%|          | 141/28395 [01:15<3:13:28,  2.43it/s]\n",
      "  1%|          | 142/28395 [01:16<3:15:09,  2.41it/s]\n",
      "  1%|          | 143/28395 [01:16<3:15:21,  2.41it/s]\n",
      "  1%|          | 144/28395 [01:17<3:22:40,  2.32it/s]\n",
      "  1%|          | 145/28395 [01:17<3:53:34,  2.02it/s]\n",
      "  1%|          | 146/28395 [01:18<4:51:09,  1.62it/s]\n",
      "  1%|          | 147/28395 [01:19<5:21:16,  1.47it/s]\n",
      "  1%|          | 148/28395 [01:20<5:36:35,  1.40it/s]\n",
      "  1%|          | 149/28395 [01:20<5:12:13,  1.51it/s]\n",
      "  1%|          | 150/28395 [01:21<4:38:58,  1.69it/s]\n",
      "  1%|          | 151/28395 [01:21<4:13:26,  1.86it/s]\n",
      "  1%|          | 152/28395 [01:22<3:55:35,  2.00it/s]\n",
      "  1%|          | 153/28395 [01:22<3:48:59,  2.06it/s]\n",
      "  1%|          | 154/28395 [01:23<3:39:09,  2.15it/s]\n",
      "  1%|          | 155/28395 [01:23<3:33:40,  2.20it/s]\n",
      "  1%|          | 156/28395 [01:23<3:35:53,  2.18it/s]\n",
      "  1%|          | 157/28395 [01:24<3:31:48,  2.22it/s]\n",
      "  1%|          | 158/28395 [01:24<3:27:06,  2.27it/s]\n",
      "  1%|          | 159/28395 [01:25<3:32:08,  2.22it/s]\n",
      "  1%|          | 160/28395 [01:25<3:39:52,  2.14it/s]\n",
      "  1%|          | 161/28395 [01:26<3:40:56,  2.13it/s]\n",
      "  1%|          | 162/28395 [01:26<4:06:09,  1.91it/s]\n",
      "  1%|          | 163/28395 [01:27<4:13:06,  1.86it/s]\n",
      "  1%|          | 164/28395 [01:28<5:28:47,  1.43it/s]\n",
      "  1%|          | 165/28395 [01:29<5:47:49,  1.35it/s]\n",
      "  1%|          | 166/28395 [01:29<5:09:04,  1.52it/s]\n",
      "  1%|          | 167/28395 [01:30<4:33:46,  1.72it/s]\n",
      "  1%|          | 168/28395 [01:30<4:12:01,  1.87it/s]\n",
      "  1%|          | 169/28395 [01:31<3:58:12,  1.97it/s]\n",
      "  1%|          | 170/28395 [01:31<4:28:21,  1.75it/s]\n",
      "  1%|          | 171/28395 [01:32<4:13:35,  1.85it/s]\n",
      "  1%|          | 172/28395 [01:32<3:55:17,  2.00it/s]\n",
      "  1%|          | 173/28395 [01:33<3:45:04,  2.09it/s]\n",
      "  1%|          | 174/28395 [01:33<3:37:46,  2.16it/s]\n",
      "  1%|          | 175/28395 [01:34<3:59:07,  1.97it/s]\n",
      "  1%|          | 177/28395 [01:35<3:51:02,  2.04it/s]\n",
      "  1%|          | 178/28395 [01:35<4:48:21,  1.63it/s]\n",
      "  1%|          | 179/28395 [01:36<5:08:38,  1.52it/s]\n",
      "  1%|          | 180/28395 [01:37<4:40:38,  1.68it/s]\n",
      "  1%|          | 181/28395 [01:37<4:13:50,  1.85it/s]\n",
      "  1%|          | 182/28395 [01:38<3:59:02,  1.97it/s]\n",
      "  1%|          | 183/28395 [01:38<3:46:32,  2.08it/s]\n",
      "  1%|          | 184/28395 [01:38<3:38:06,  2.16it/s]\n",
      "  1%|          | 185/28395 [01:39<3:38:13,  2.15it/s]\n",
      "  1%|          | 186/28395 [01:39<3:57:43,  1.98it/s]\n",
      "  1%|          | 187/28395 [01:40<3:47:09,  2.07it/s]\n",
      "  1%|          | 188/28395 [01:40<3:45:06,  2.09it/s]\n",
      "  1%|          | 189/28395 [01:41<4:01:24,  1.95it/s]\n",
      "  1%|          | 190/28395 [01:42<4:16:19,  1.83it/s]\n",
      "  1%|          | 191/28395 [01:42<4:07:04,  1.90it/s]\n",
      "  1%|          | 192/28395 [01:42<3:51:35,  2.03it/s]\n",
      "  1%|          | 193/28395 [01:43<3:41:35,  2.12it/s]\n",
      "  1%|          | 194/28395 [01:43<3:36:17,  2.17it/s]\n",
      "  1%|          | 195/28395 [01:44<3:30:35,  2.23it/s]\n",
      "  1%|          | 196/28395 [01:44<3:32:27,  2.21it/s]\n",
      "  1%|          | 198/28395 [01:45<3:17:00,  2.39it/s]\n",
      "  1%|          | 199/28395 [01:46<4:49:36,  1.62it/s]\n",
      "  1%|          | 200/28395 [01:47<5:10:50,  1.51it/s]\n",
      "  1%|          | 201/28395 [01:47<4:52:56,  1.60it/s]\n",
      "  1%|          | 202/28395 [01:48<4:54:10,  1.60it/s]\n",
      "  1%|          | 203/28395 [01:49<5:30:03,  1.42it/s]\n",
      "  1%|          | 204/28395 [01:50<7:17:49,  1.07it/s]\n",
      "  1%|          | 205/28395 [01:51<7:36:44,  1.03it/s]\n",
      "  1%|          | 206/28395 [01:52<7:20:44,  1.07it/s]\n",
      "  1%|          | 207/28395 [01:53<6:26:22,  1.22it/s]\n",
      "  1%|          | 208/28395 [01:53<5:30:11,  1.42it/s]\n",
      "  1%|          | 209/28395 [01:54<4:56:03,  1.59it/s]\n",
      "  1%|          | 210/28395 [01:54<4:23:10,  1.78it/s]\n",
      "  1%|          | 211/28395 [01:54<4:06:54,  1.90it/s]\n",
      "  1%|          | 212/28395 [01:55<3:53:32,  2.01it/s]\n",
      "  1%|          | 213/28395 [01:55<3:45:44,  2.08it/s]\n",
      "  1%|          | 214/28395 [01:56<3:41:57,  2.12it/s]\n",
      "  1%|          | 215/28395 [01:56<3:36:05,  2.17it/s]\n",
      "  1%|          | 216/28395 [01:57<3:31:31,  2.22it/s]\n",
      "  1%|          | 217/28395 [01:57<3:27:04,  2.27it/s]\n",
      "  1%|          | 218/28395 [01:57<3:24:10,  2.30it/s]\n",
      "  1%|          | 219/28395 [01:58<3:22:44,  2.32it/s]\n",
      "  1%|          | 220/28395 [01:58<3:23:26,  2.31it/s]\n",
      "  1%|          | 221/28395 [01:59<3:21:50,  2.33it/s]\n",
      "  1%|          | 222/28395 [01:59<3:21:33,  2.33it/s]\n",
      "  1%|          | 223/28395 [02:00<3:22:11,  2.32it/s]\n",
      "  1%|          | 224/28395 [02:00<3:21:40,  2.33it/s]\n",
      "  1%|          | 225/28395 [02:00<3:27:36,  2.26it/s]\n",
      "  1%|          | 226/28395 [02:01<3:27:52,  2.26it/s]\n",
      "  1%|          | 227/28395 [02:01<3:26:02,  2.28it/s]\n",
      "  1%|          | 228/28395 [02:02<3:24:11,  2.30it/s]\n",
      "  1%|          | 229/28395 [02:02<3:23:20,  2.31it/s]\n",
      "  1%|          | 230/28395 [02:03<3:21:11,  2.33it/s]\n",
      "  1%|          | 231/28395 [02:03<3:40:10,  2.13it/s]\n",
      "  1%|          | 232/28395 [02:04<3:37:44,  2.16it/s]\n",
      "  1%|          | 233/28395 [02:04<3:47:16,  2.07it/s]\n",
      "  1%|          | 234/28395 [02:05<3:44:57,  2.09it/s]\n",
      "  1%|          | 235/28395 [02:05<3:48:05,  2.06it/s]\n",
      "  1%|          | 236/28395 [02:06<4:09:40,  1.88it/s]\n",
      "  1%|          | 237/28395 [02:06<4:31:55,  1.73it/s]\n",
      "  1%|          | 238/28395 [02:08<5:55:10,  1.32it/s]\n",
      "  1%|          | 239/28395 [02:08<5:44:22,  1.36it/s]\n",
      "  1%|          | 240/28395 [02:09<5:12:14,  1.50it/s]\n",
      "  1%|          | 241/28395 [02:09<4:40:04,  1.68it/s]\n",
      "  1%|          | 242/28395 [02:10<4:19:29,  1.81it/s]\n",
      "  1%|          | 244/28395 [02:10<3:29:46,  2.24it/s]\n",
      "  1%|          | 245/28395 [02:11<3:28:26,  2.25it/s]\n",
      "  1%|          | 246/28395 [02:11<3:25:25,  2.28it/s]\n",
      "  1%|          | 247/28395 [02:11<3:31:34,  2.22it/s]\n",
      "  1%|          | 248/28395 [02:12<3:33:39,  2.20it/s]\n",
      "  1%|          | 249/28395 [02:12<3:38:27,  2.15it/s]\n",
      "  1%|          | 250/28395 [02:13<3:47:43,  2.06it/s]\n",
      "  1%|          | 251/28395 [02:14<4:00:22,  1.95it/s]\n",
      "  1%|          | 252/28395 [02:14<4:15:07,  1.84it/s]\n",
      "  1%|          | 253/28395 [02:15<3:58:21,  1.97it/s]\n",
      "  1%|          | 254/28395 [02:15<3:42:17,  2.11it/s]\n",
      "  1%|          | 255/28395 [02:15<3:36:23,  2.17it/s]\n",
      "  1%|          | 256/28395 [02:16<3:26:20,  2.27it/s]\n",
      "  1%|          | 257/28395 [02:16<3:23:46,  2.30it/s]\n",
      "  1%|          | 258/28395 [02:17<3:21:17,  2.33it/s]\n",
      "  1%|          | 259/28395 [02:17<3:17:43,  2.37it/s]\n",
      "  1%|          | 260/28395 [02:17<3:15:38,  2.40it/s]\n",
      "  1%|          | 261/28395 [02:18<3:16:43,  2.38it/s]\n",
      "  1%|          | 262/28395 [02:18<3:14:57,  2.40it/s]\n",
      "  1%|          | 263/28395 [02:19<3:15:16,  2.40it/s]\n",
      "  1%|          | 264/28395 [02:19<3:15:53,  2.39it/s]\n",
      "  1%|          | 265/28395 [02:20<3:14:03,  2.42it/s]\n",
      "  1%|          | 266/28395 [02:20<3:10:58,  2.45it/s]\n",
      "  1%|          | 267/28395 [02:20<3:10:03,  2.47it/s]\n",
      "  1%|          | 268/28395 [02:21<3:09:58,  2.47it/s]\n",
      "  1%|          | 269/28395 [02:21<3:10:37,  2.46it/s]\n",
      "  1%|          | 270/28395 [02:22<3:52:43,  2.01it/s]\n",
      "  1%|          | 271/28395 [02:23<4:34:06,  1.71it/s]\n",
      "  1%|          | 272/28395 [02:23<5:07:09,  1.53it/s]\n",
      "  1%|          | 273/28395 [02:24<5:03:54,  1.54it/s]\n",
      "  1%|          | 274/28395 [02:25<4:39:36,  1.68it/s]\n",
      "  1%|          | 275/28395 [02:25<4:15:55,  1.83it/s]\n",
      "  1%|          | 276/28395 [02:25<3:56:28,  1.98it/s]\n",
      "  1%|          | 277/28395 [02:26<3:43:42,  2.09it/s]\n",
      "  1%|          | 278/28395 [02:26<3:31:49,  2.21it/s]\n",
      "  1%|          | 279/28395 [02:27<3:25:45,  2.28it/s]\n",
      "  1%|          | 280/28395 [02:27<3:19:49,  2.34it/s]\n",
      "  1%|          | 281/28395 [02:27<3:15:48,  2.39it/s]\n",
      "  1%|          | 282/28395 [02:28<3:14:33,  2.41it/s]\n",
      "  1%|          | 284/28395 [02:28<2:44:34,  2.85it/s]\n",
      "  1%|          | 285/28395 [02:29<2:55:02,  2.68it/s]\n",
      "  1%|          | 286/28395 [02:29<3:07:35,  2.50it/s]\n",
      "  1%|          | 287/28395 [02:30<3:17:44,  2.37it/s]\n",
      "  1%|          | 288/28395 [02:30<3:25:41,  2.28it/s]\n",
      "  1%|          | 289/28395 [02:31<3:38:57,  2.14it/s]\n",
      "  1%|          | 290/28395 [02:31<3:42:38,  2.10it/s]\n",
      "  1%|          | 291/28395 [02:32<3:40:52,  2.12it/s]\n",
      "  1%|          | 292/28395 [02:32<3:34:35,  2.18it/s]\n",
      "  1%|          | 293/28395 [02:32<3:32:34,  2.20it/s]\n",
      "  1%|          | 294/28395 [02:33<3:28:22,  2.25it/s]\n",
      "  1%|          | 295/28395 [02:33<3:28:22,  2.25it/s]\n",
      "  1%|          | 296/28395 [02:34<3:26:40,  2.27it/s]\n",
      "  1%|          | 297/28395 [02:34<3:27:02,  2.26it/s]\n",
      "  1%|          | 298/28395 [02:35<3:26:58,  2.26it/s]\n",
      "  1%|          | 299/28395 [02:35<3:24:17,  2.29it/s]\n",
      "  1%|          | 300/28395 [02:35<3:27:09,  2.26it/s]\n",
      "  1%|          | 301/28395 [02:36<3:28:00,  2.25it/s]\n",
      "  1%|          | 302/28395 [02:36<3:24:44,  2.29it/s]\n",
      "  1%|          | 303/28395 [02:37<3:25:47,  2.28it/s]\n",
      "  1%|          | 304/28395 [02:37<3:28:46,  2.24it/s]\n",
      "  1%|          | 305/28395 [02:38<3:48:21,  2.05it/s]\n",
      "  1%|          | 307/28395 [02:39<3:33:25,  2.19it/s]\n",
      "  1%|          | 308/28395 [02:39<4:23:07,  1.78it/s]\n",
      "  1%|          | 309/28395 [02:40<4:28:54,  1.74it/s]\n"
     ]
    },
    {
     "name": "stderr",
     "output_type": "stream",
     "text": [
      "  1%|          | 310/28395 [02:40<4:10:58,  1.87it/s]\n",
      "  1%|          | 311/28395 [02:41<3:56:02,  1.98it/s]\n",
      "  1%|          | 312/28395 [02:41<3:43:29,  2.09it/s]\n",
      "  1%|          | 313/28395 [02:42<3:35:57,  2.17it/s]\n",
      "  1%|          | 314/28395 [02:42<3:32:47,  2.20it/s]\n",
      "  1%|          | 315/28395 [02:43<3:28:36,  2.24it/s]\n",
      "  1%|          | 316/28395 [02:43<3:22:52,  2.31it/s]\n",
      "  1%|          | 317/28395 [02:43<3:17:02,  2.37it/s]\n",
      "  1%|          | 318/28395 [02:44<3:16:44,  2.38it/s]\n",
      "  1%|          | 319/28395 [02:44<3:15:15,  2.40it/s]\n",
      "  1%|          | 320/28395 [02:45<3:16:06,  2.39it/s]\n",
      "  1%|          | 321/28395 [02:45<3:12:42,  2.43it/s]\n",
      "  1%|          | 322/28395 [02:45<3:11:10,  2.45it/s]\n",
      "  1%|          | 323/28395 [02:46<3:12:03,  2.44it/s]\n",
      "  1%|          | 324/28395 [02:46<3:13:30,  2.42it/s]\n",
      "  1%|          | 325/28395 [02:47<3:12:36,  2.43it/s]\n",
      "  1%|          | 326/28395 [02:47<3:13:53,  2.41it/s]\n",
      "  1%|          | 327/28395 [02:48<3:14:23,  2.41it/s]\n",
      "  1%|          | 328/28395 [02:48<3:25:03,  2.28it/s]\n",
      "  1%|          | 329/28395 [02:48<3:25:40,  2.27it/s]\n",
      "  1%|          | 330/28395 [02:49<3:50:02,  2.03it/s]\n",
      "  1%|          | 331/28395 [02:50<3:54:38,  1.99it/s]\n",
      "  1%|          | 332/28395 [02:50<4:02:19,  1.93it/s]\n",
      "  1%|          | 333/28395 [02:51<4:03:38,  1.92it/s]\n",
      "  1%|          | 334/28395 [02:51<3:55:19,  1.99it/s]\n",
      "  1%|          | 335/28395 [02:52<3:49:05,  2.04it/s]\n",
      "  1%|          | 336/28395 [02:52<3:38:59,  2.14it/s]\n",
      "  1%|          | 337/28395 [02:52<3:30:21,  2.22it/s]\n",
      "  1%|          | 338/28395 [02:53<3:23:54,  2.29it/s]\n",
      "  1%|          | 339/28395 [02:53<3:51:10,  2.02it/s]\n",
      "  1%|          | 340/28395 [02:54<5:05:37,  1.53it/s]\n",
      "  1%|          | 341/28395 [02:56<6:12:26,  1.26it/s]\n",
      "  1%|          | 342/28395 [02:57<6:27:26,  1.21it/s]\n",
      "  1%|          | 343/28395 [02:57<5:41:08,  1.37it/s]\n",
      "  1%|          | 344/28395 [02:57<4:56:09,  1.58it/s]\n",
      "  1%|          | 345/28395 [02:58<4:23:24,  1.77it/s]\n",
      "  1%|          | 346/28395 [02:58<4:10:24,  1.87it/s]\n",
      "  1%|          | 347/28395 [02:59<3:55:34,  1.98it/s]\n",
      "  1%|          | 348/28395 [02:59<3:54:33,  1.99it/s]\n",
      "  1%|          | 349/28395 [03:00<3:51:52,  2.02it/s]\n",
      "  1%|          | 350/28395 [03:00<3:43:50,  2.09it/s]\n",
      "  1%|          | 351/28395 [03:01<3:53:56,  2.00it/s]\n",
      "  1%|          | 352/28395 [03:01<3:48:38,  2.04it/s]\n",
      "  1%|          | 353/28395 [03:02<3:38:54,  2.13it/s]\n",
      "  1%|          | 354/28395 [03:02<3:34:28,  2.18it/s]\n",
      "  1%|▏         | 355/28395 [03:02<3:29:16,  2.23it/s]\n",
      "  1%|▏         | 356/28395 [03:03<3:24:56,  2.28it/s]\n",
      "  1%|▏         | 358/28395 [03:03<2:52:56,  2.70it/s]\n",
      "  1%|▏         | 359/28395 [03:04<2:58:14,  2.62it/s]\n",
      "  1%|▏         | 360/28395 [03:04<3:02:30,  2.56it/s]\n",
      "  1%|▏         | 361/28395 [03:05<3:07:51,  2.49it/s]"
     ]
    },
    {
     "ename": "KeyboardInterrupt",
     "evalue": "",
     "output_type": "error",
     "traceback": [
      "\u001b[1;31m---------------------------------------------------------------------------\u001b[0m",
      "\u001b[1;31mKeyboardInterrupt\u001b[0m                         Traceback (most recent call last)",
      "\u001b[1;32m<ipython-input-41-dcd21842a6af>\u001b[0m in \u001b[0;36m<module>\u001b[1;34m\u001b[0m\n\u001b[0;32m     57\u001b[0m     \u001b[1;32mdel\u001b[0m \u001b[0musers\u001b[0m\u001b[1;33m[\u001b[0m\u001b[0mu\u001b[0m\u001b[1;33m]\u001b[0m\u001b[1;33m\u001b[0m\u001b[1;33m\u001b[0m\u001b[0m\n\u001b[0;32m     58\u001b[0m \u001b[1;33m\u001b[0m\u001b[0m\n\u001b[1;32m---> 59\u001b[1;33m     \u001b[0mclosest_users\u001b[0m \u001b[1;33m=\u001b[0m \u001b[0mfind_k_closest\u001b[0m\u001b[1;33m(\u001b[0m\u001b[0mval\u001b[0m\u001b[1;33m,\u001b[0m \u001b[0musers\u001b[0m\u001b[1;33m,\u001b[0m \u001b[0mk\u001b[0m\u001b[1;33m)\u001b[0m\u001b[1;33m\u001b[0m\u001b[1;33m\u001b[0m\u001b[0m\n\u001b[0m\u001b[0;32m     60\u001b[0m \u001b[1;33m\u001b[0m\u001b[0m\n\u001b[0;32m     61\u001b[0m     \u001b[1;31m# теперь считаем для каждого статзначимость признаков, после добавления кого-то конкретного во вторую группу\u001b[0m\u001b[1;33m\u001b[0m\u001b[1;33m\u001b[0m\u001b[1;33m\u001b[0m\u001b[0m\n",
      "\u001b[1;32m<ipython-input-38-df0490cb747a>\u001b[0m in \u001b[0;36mfind_k_closest\u001b[1;34m(obj, users, k)\u001b[0m\n\u001b[0;32m      8\u001b[0m     \u001b[0mdists\u001b[0m \u001b[1;33m=\u001b[0m \u001b[1;33m[\u001b[0m\u001b[1;33m]\u001b[0m\u001b[1;33m\u001b[0m\u001b[1;33m\u001b[0m\u001b[0m\n\u001b[0;32m      9\u001b[0m     \u001b[1;32mfor\u001b[0m \u001b[0muser\u001b[0m \u001b[1;32min\u001b[0m \u001b[0mall_users\u001b[0m\u001b[1;33m:\u001b[0m\u001b[1;33m\u001b[0m\u001b[1;33m\u001b[0m\u001b[0m\n\u001b[1;32m---> 10\u001b[1;33m         \u001b[0mdists\u001b[0m\u001b[1;33m.\u001b[0m\u001b[0mappend\u001b[0m\u001b[1;33m(\u001b[0m\u001b[0meuclidean\u001b[0m\u001b[1;33m(\u001b[0m\u001b[0mobj\u001b[0m\u001b[1;33m,\u001b[0m \u001b[0musers\u001b[0m\u001b[1;33m[\u001b[0m\u001b[0muser\u001b[0m\u001b[1;33m]\u001b[0m\u001b[1;33m)\u001b[0m\u001b[1;33m)\u001b[0m\u001b[1;33m\u001b[0m\u001b[1;33m\u001b[0m\u001b[0m\n\u001b[0m\u001b[0;32m     11\u001b[0m \u001b[1;33m\u001b[0m\u001b[0m\n\u001b[0;32m     12\u001b[0m     \u001b[0mbest_inds\u001b[0m \u001b[1;33m=\u001b[0m \u001b[0mnp\u001b[0m\u001b[1;33m.\u001b[0m\u001b[0margsort\u001b[0m\u001b[1;33m(\u001b[0m\u001b[0mdists\u001b[0m\u001b[1;33m)\u001b[0m\u001b[1;33m[\u001b[0m\u001b[1;33m:\u001b[0m\u001b[0mk\u001b[0m\u001b[1;33m]\u001b[0m\u001b[1;33m\u001b[0m\u001b[1;33m\u001b[0m\u001b[0m\n",
      "\u001b[1;32mC:\\ProgramData\\Anaconda3\\lib\\site-packages\\scipy\\spatial\\distance.py\u001b[0m in \u001b[0;36meuclidean\u001b[1;34m(u, v, w)\u001b[0m\n\u001b[0;32m    600\u001b[0m \u001b[1;33m\u001b[0m\u001b[0m\n\u001b[0;32m    601\u001b[0m     \"\"\"\n\u001b[1;32m--> 602\u001b[1;33m     \u001b[1;32mreturn\u001b[0m \u001b[0mminkowski\u001b[0m\u001b[1;33m(\u001b[0m\u001b[0mu\u001b[0m\u001b[1;33m,\u001b[0m \u001b[0mv\u001b[0m\u001b[1;33m,\u001b[0m \u001b[0mp\u001b[0m\u001b[1;33m=\u001b[0m\u001b[1;36m2\u001b[0m\u001b[1;33m,\u001b[0m \u001b[0mw\u001b[0m\u001b[1;33m=\u001b[0m\u001b[0mw\u001b[0m\u001b[1;33m)\u001b[0m\u001b[1;33m\u001b[0m\u001b[1;33m\u001b[0m\u001b[0m\n\u001b[0m\u001b[0;32m    603\u001b[0m \u001b[1;33m\u001b[0m\u001b[0m\n\u001b[0;32m    604\u001b[0m \u001b[1;33m\u001b[0m\u001b[0m\n",
      "\u001b[1;32mC:\\ProgramData\\Anaconda3\\lib\\site-packages\\scipy\\spatial\\distance.py\u001b[0m in \u001b[0;36mminkowski\u001b[1;34m(u, v, p, w)\u001b[0m\n\u001b[0;32m    488\u001b[0m \u001b[1;33m\u001b[0m\u001b[0m\n\u001b[0;32m    489\u001b[0m     \"\"\"\n\u001b[1;32m--> 490\u001b[1;33m     \u001b[0mu\u001b[0m \u001b[1;33m=\u001b[0m \u001b[0m_validate_vector\u001b[0m\u001b[1;33m(\u001b[0m\u001b[0mu\u001b[0m\u001b[1;33m)\u001b[0m\u001b[1;33m\u001b[0m\u001b[1;33m\u001b[0m\u001b[0m\n\u001b[0m\u001b[0;32m    491\u001b[0m     \u001b[0mv\u001b[0m \u001b[1;33m=\u001b[0m \u001b[0m_validate_vector\u001b[0m\u001b[1;33m(\u001b[0m\u001b[0mv\u001b[0m\u001b[1;33m)\u001b[0m\u001b[1;33m\u001b[0m\u001b[1;33m\u001b[0m\u001b[0m\n\u001b[0;32m    492\u001b[0m     \u001b[1;32mif\u001b[0m \u001b[0mp\u001b[0m \u001b[1;33m<\u001b[0m \u001b[1;36m1\u001b[0m\u001b[1;33m:\u001b[0m\u001b[1;33m\u001b[0m\u001b[1;33m\u001b[0m\u001b[0m\n",
      "\u001b[1;32mC:\\ProgramData\\Anaconda3\\lib\\site-packages\\scipy\\spatial\\distance.py\u001b[0m in \u001b[0;36m_validate_vector\u001b[1;34m(u, dtype)\u001b[0m\n\u001b[0;32m    323\u001b[0m \u001b[1;32mdef\u001b[0m \u001b[0m_validate_vector\u001b[0m\u001b[1;33m(\u001b[0m\u001b[0mu\u001b[0m\u001b[1;33m,\u001b[0m \u001b[0mdtype\u001b[0m\u001b[1;33m=\u001b[0m\u001b[1;32mNone\u001b[0m\u001b[1;33m)\u001b[0m\u001b[1;33m:\u001b[0m\u001b[1;33m\u001b[0m\u001b[1;33m\u001b[0m\u001b[0m\n\u001b[0;32m    324\u001b[0m     \u001b[1;31m# XXX Is order='c' really necessary?\u001b[0m\u001b[1;33m\u001b[0m\u001b[1;33m\u001b[0m\u001b[1;33m\u001b[0m\u001b[0m\n\u001b[1;32m--> 325\u001b[1;33m     \u001b[0mu\u001b[0m \u001b[1;33m=\u001b[0m \u001b[0mnp\u001b[0m\u001b[1;33m.\u001b[0m\u001b[0masarray\u001b[0m\u001b[1;33m(\u001b[0m\u001b[0mu\u001b[0m\u001b[1;33m,\u001b[0m \u001b[0mdtype\u001b[0m\u001b[1;33m=\u001b[0m\u001b[0mdtype\u001b[0m\u001b[1;33m,\u001b[0m \u001b[0morder\u001b[0m\u001b[1;33m=\u001b[0m\u001b[1;34m'c'\u001b[0m\u001b[1;33m)\u001b[0m\u001b[1;33m.\u001b[0m\u001b[0msqueeze\u001b[0m\u001b[1;33m(\u001b[0m\u001b[1;33m)\u001b[0m\u001b[1;33m\u001b[0m\u001b[1;33m\u001b[0m\u001b[0m\n\u001b[0m\u001b[0;32m    326\u001b[0m     \u001b[1;31m# Ensure values such as u=1 and u=[1] still return 1-D arrays.\u001b[0m\u001b[1;33m\u001b[0m\u001b[1;33m\u001b[0m\u001b[1;33m\u001b[0m\u001b[0m\n\u001b[0;32m    327\u001b[0m     \u001b[0mu\u001b[0m \u001b[1;33m=\u001b[0m \u001b[0mnp\u001b[0m\u001b[1;33m.\u001b[0m\u001b[0matleast_1d\u001b[0m\u001b[1;33m(\u001b[0m\u001b[0mu\u001b[0m\u001b[1;33m)\u001b[0m\u001b[1;33m\u001b[0m\u001b[1;33m\u001b[0m\u001b[0m\n",
      "\u001b[1;31mKeyboardInterrupt\u001b[0m: "
     ]
    }
   ],
   "source": [
    "# копируем наш dictionary в отдельную переменную\n",
    "users = deepcopy(norm_user_rfo)\n",
    "\n",
    "all_users = list(users.keys())\n",
    "print(len(all_users))\n",
    "\n",
    "k = 11\n",
    "\n",
    "# заводим dictionary с id клиентов и их признаками, надо раскомментировать часть с маржинальностью\n",
    "# делаем это для того, чтобы не возникало ошибок с проверкой на статзначимость на первых итерациях\n",
    "groups = {\n",
    "    'u1': [all_users[0], all_users[1]],\n",
    "    'r1': [users[all_users[0]][0], users[all_users[1]][0]],\n",
    "    'f1': [users[all_users[0]][1], users[all_users[1]][1]],\n",
    "    'o1': [users[all_users[0]][2], users[all_users[1]][2]],\n",
    "    'a1': [users[all_users[0]][3], users[all_users[1]][3]],\n",
    "    'u2': [all_users[2], all_users[3]],\n",
    "    'r2': [users[all_users[2]][0], users[all_users[3]][0]],\n",
    "    'f2': [users[all_users[2]][1], users[all_users[3]][1]],\n",
    "    'o2': [users[all_users[2]][2], users[all_users[3]][2]],\n",
    "    'a2': [users[all_users[2]][3], users[all_users[3]][3]],\n",
    "    'u3': [all_users[4], all_users[5]],\n",
    "    'r3': [users[all_users[4]][0], users[all_users[5]][0]],\n",
    "    'f3': [users[all_users[4]][1], users[all_users[5]][1]],\n",
    "    'o3': [users[all_users[4]][2], users[all_users[5]][2]],\n",
    "    'a3': [users[all_users[4]][3], users[all_users[5]][3]]\n",
    "}\n",
    "\n",
    "# удаляем клиентов, которых уже добавили\n",
    "del users[all_users[0]]\n",
    "del users[all_users[1]]\n",
    "del users[all_users[2]]\n",
    "del users[all_users[3]]\n",
    "del users[all_users[4]]\n",
    "del users[all_users[5]]\n",
    "\n",
    "iterator = 0\n",
    "\n",
    "# итерируемся по всем остальным\n",
    "for u in tqdm(all_users[6:]):\n",
    "#     на всякий случай - если клиент уже есть во второй группе, то пропускаем его\n",
    "    if u in groups['u2'] or u in groups['u3']:\n",
    "        continue\n",
    "    \n",
    "#     iterator += 1\n",
    "    \n",
    "#     добавляем идентификатор клиента и его параметры в словарь в первую группу\n",
    "    groups['u1'].append(u)\n",
    "    groups['r1'].append(user_rfo[u][0])\n",
    "    groups['f1'].append(user_rfo[u][1])\n",
    "    groups['o1'].append(user_rfo[u][2])\n",
    "    groups['a1'].append(user_rfo[u][3])\n",
    "    \n",
    "    \n",
    "    # выносим признаки клиента в отдельную переменную и удаляем его из словаря\n",
    "    val = users[u]\n",
    "    del users[u]\n",
    "    \n",
    "    closest_users = find_k_closest(val, users, k)\n",
    "    \n",
    "    # теперь считаем для каждого статзначимость признаков, после добавления кого-то конкретного во вторую группу\n",
    "    pvalues = []\n",
    "    for cu in closest_users:\n",
    "        tmp_pr_1 = st.ttest_ind(groups['r1'], groups['r2'] + [user_rfo[cu][0]]).pvalue\n",
    "        tmp_pf_1 = st.ttest_ind(groups['f1'], groups['f2'] + [user_rfo[cu][1]]).pvalue\n",
    "        tmp_po_1 = st.ttest_ind(groups['o1'], groups['o2'] + [user_rfo[cu][2]]).pvalue\n",
    "        tmp_pa_1 = st.ttest_ind(groups['a1'], groups['a2'] + [user_rfo[cu][3]]).pvalue\n",
    "        tmp_sum_p_1 = tmp_pr_1 + tmp_pf_1 + tmp_po_1 + tmp_pa_1\n",
    "    \n",
    "        tmp_pr_2 = st.ttest_ind(groups['r1'], groups['r3'] + [user_rfo[cu][0]]).pvalue\n",
    "        tmp_pf_2 = st.ttest_ind(groups['f1'], groups['f3'] + [user_rfo[cu][1]]).pvalue\n",
    "        tmp_po_2 = st.ttest_ind(groups['o1'], groups['o3'] + [user_rfo[cu][2]]).pvalue\n",
    "        tmp_pa_2 = st.ttest_ind(groups['a1'], groups['a3'] + [user_rfo[cu][3]]).pvalue\n",
    "        tmp_sum_p_2 = tmp_pr_2 + tmp_pf_2 + tmp_po_2 + tmp_pa_2\n",
    "        \n",
    "        pvalues.append((tmp_sum_p_1, tmp_sum_p_2))\n",
    "    \n",
    "    # находим клиента, который лучше всего повышает суммарную статзначимость\n",
    "    best_ind = np.argmax([tmp_p[0] for tmp_p in pvalues])\n",
    "    best_user = closest_users[best_ind]\n",
    "    \n",
    "    # добавляем его во вторую группу\n",
    "    groups['u2'].append(best_user)\n",
    "    groups['r2'].append(user_rfo[best_user][0])\n",
    "    groups['f2'].append(user_rfo[best_user][1])\n",
    "    groups['o2'].append(user_rfo[best_user][2])\n",
    "    groups['a2'].append(user_rfo[best_user][3])\n",
    "\n",
    "\n",
    "    pvalues[best_ind] = (-1, -1)\n",
    "    del users[best_user]\n",
    "    \n",
    "    \n",
    "    best_ind = np.argmax([tmp_p[1] for tmp_p in pvalues])\n",
    "    best_user = closest_users[best_ind]\n",
    "    \n",
    "    # добавляем его во вторую группу\n",
    "    groups['u3'].append(best_user)\n",
    "    groups['r3'].append(user_rfo[best_user][0])\n",
    "    groups['f3'].append(user_rfo[best_user][1])\n",
    "    groups['o3'].append(user_rfo[best_user][2])\n",
    "    groups['a3'].append(user_rfo[best_user][3])\n",
    "\n",
    "    del users[best_user]"
   ]
  },
  {
   "cell_type": "code",
   "execution_count": null,
   "metadata": {},
   "outputs": [],
   "source": [
    "rev1 = needed_data[(needed_data.user_id.isin(ab_users[ab_users.group_type == \"firt_group\"].user_id.values))].bill_real_price.sum()\n",
    "rev2 = needed_data[(needed_data.user_id.isin(ab_users[ab_users.group_type  == \"second_group\"].user_id.values))].bill_real_price.sum()\n",
    "rev3 = needed_data[(needed_data.user_id.isin(ab_users[ab_users.group_type  == \"control\"].user_id.values))].bill_real_price.sum()\n",
    "\n",
    "print(rev1 / rev2)\n",
    "print(rev2 / rev3)\n",
    "print(rev1 / rev3)\n"
   ]
  },
  {
   "cell_type": "code",
   "execution_count": null,
   "metadata": {},
   "outputs": [],
   "source": [
    "test1 = pd.DataFrame(groups[\"u1\"], columns=[\"user_id\"])\n",
    "test1[\"group_type\"] = \"firt_group\"\n",
    "\n",
    "test2 = pd.DataFrame(groups[\"u2\"], columns=[\"user_id\"])\n",
    "test2[\"group_type\"] = \"second_group\"\n",
    "\n",
    "control = pd.DataFrame(groups[\"u3\"], columns=[\"user_id\"])\n",
    "control[\"group_type\"] = \"control\"\n",
    "\n",
    "\n",
    "ab = pd.concat([test1, test2, control])\n",
    "ab[\"last_communication_date\"] = \"-\"\n",
    "ab[\"user_segment\"] = \"default\""
   ]
  },
  {
   "cell_type": "code",
   "execution_count": 95,
   "metadata": {},
   "outputs": [],
   "source": [
    "ab.to_csv(\"ab_splitted_users.csv\", index=False)"
   ]
  },
  {
   "cell_type": "code",
   "execution_count": 96,
   "metadata": {},
   "outputs": [],
   "source": [
    "grouped_users = pd.read_csv(\"ab_splitted_users.csv\",sep = ',',dtype = str)"
   ]
  },
  {
   "cell_type": "code",
   "execution_count": null,
   "metadata": {},
   "outputs": [],
   "source": []
  }
 ],
 "metadata": {
  "kernelspec": {
   "display_name": "Python 3",
   "language": "python",
   "name": "python3"
  },
  "language_info": {
   "codemirror_mode": {
    "name": "ipython",
    "version": 3
   },
   "file_extension": ".py",
   "mimetype": "text/x-python",
   "name": "python",
   "nbconvert_exporter": "python",
   "pygments_lexer": "ipython3",
   "version": "3.7.3"
  }
 },
 "nbformat": 4,
 "nbformat_minor": 4
}
